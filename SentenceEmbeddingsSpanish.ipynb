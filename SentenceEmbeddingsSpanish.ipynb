{
 "cells": [
  {
   "cell_type": "markdown",
   "metadata": {},
   "source": [
    "## Modelo multilenguaje"
   ]
  },
  {
   "cell_type": "code",
   "execution_count": 3,
   "metadata": {},
   "outputs": [],
   "source": [
    "# %%bash\n",
    "# wget -O paraphrase-xlm-r-multilingual-v1.zip https://public.ukp.informatik.tu-darmstadt.de/reimers/sentence-transformers/v0.2/paraphrase-xlm-r-multilingual-v1.zip\n",
    "# rm -rf model\n",
    "# mkdir model\n",
    "# unzip paraphrase-xlm-r-multilingual-v1.zip -d model/"
   ]
  },
  {
   "cell_type": "code",
   "execution_count": 4,
   "metadata": {},
   "outputs": [
    {
     "data": {
      "text/plain": [
       "'1.8.1+cu102'"
      ]
     },
     "execution_count": 4,
     "metadata": {},
     "output_type": "execute_result"
    }
   ],
   "source": [
    "from sentence_transformers import SentenceTransformer\n",
    "from sklearn.metrics.pairwise import cosine_similarity\n",
    "from IPython.core.display import HTML\n",
    "\n",
    "import torch\n",
    "torch.__version__"
   ]
  },
  {
   "cell_type": "code",
   "execution_count": 5,
   "metadata": {},
   "outputs": [],
   "source": [
    "model = SentenceTransformer('model')"
   ]
  },
  {
   "cell_type": "code",
   "execution_count": 6,
   "metadata": {},
   "outputs": [],
   "source": [
    "def evaluate_sentences(sentences):\n",
    "    sentence_embeddings = model.encode(sentences)\n",
    "    outp = ''\n",
    "    for i in range(1,len(sentences)):\n",
    "        simils = cosine_similarity(\n",
    "            [sentence_embeddings[0],\n",
    "            sentence_embeddings[i]]\n",
    "        )\n",
    "        outp += f'La similitud entre las frases <b>\"{sentences[0]}\"</b> <br/>  y <b>\"{sentences[i]}\"</b> , <br/> es de  <b>{simils[0][1]}</b><br/><br/>'\n",
    "    return outp"
   ]
  },
  {
   "cell_type": "code",
   "execution_count": 13,
   "metadata": {},
   "outputs": [
    {
     "data": {
      "text/html": [
       "La similitud entre las frases <b>\"Me gusta la música.\"</b> <br/>  y <b>\"Me gusta Iggy Pop.\"</b> , <br/> es de  <b>0.5896487236022949</b><br/><br/>La similitud entre las frases <b>\"Me gusta la música.\"</b> <br/>  y <b>\"Me gustan las piedras.\"</b> , <br/> es de  <b>0.4865304231643677</b><br/><br/>La similitud entre las frases <b>\"Me gusta la música.\"</b> <br/>  y <b>\"Me gusta el rock.\"</b> , <br/> es de  <b>0.6735926866531372</b><br/><br/>"
      ],
      "text/plain": [
       "<IPython.core.display.HTML object>"
      ]
     },
     "execution_count": 13,
     "metadata": {},
     "output_type": "execute_result"
    }
   ],
   "source": [
    "sentences = [\n",
    "    \"Me gusta la música.\",\n",
    "    \"Me gusta Iggy Pop.\",\n",
    "    \"Me gustan las piedras.\",\n",
    "    \"Me gusta el rock.\"\n",
    "]\n",
    "outp = evaluate_sentences(sentences)\n",
    "HTML(outp)"
   ]
  },
  {
   "cell_type": "code",
   "execution_count": 7,
   "metadata": {},
   "outputs": [
    {
     "data": {
      "text/html": [
       "La similitud entre las frases <b>\"Yo amo España.\"</b> <br/>  y <b>\"I love Spain.\"</b> , <br/> es de  <b>0.9912546873092651</b><br/><br/>La similitud entre las frases <b>\"Yo amo España.\"</b> <br/>  y <b>\"Otra cosa sobre España.\"</b> , <br/> es de  <b>0.7379069924354553</b><br/><br/>"
      ],
      "text/plain": [
       "<IPython.core.display.HTML object>"
      ]
     },
     "execution_count": 7,
     "metadata": {},
     "output_type": "execute_result"
    }
   ],
   "source": [
    "sentences = [\n",
    "    \"Yo amo España.\",\n",
    "    \"I love Spain.\",\n",
    "    \"Otra cosa sobre España.\"\n",
    "]\n",
    "outp = evaluate_sentences(sentences)\n",
    "HTML(outp)"
   ]
  },
  {
   "cell_type": "code",
   "execution_count": 8,
   "metadata": {},
   "outputs": [
    {
     "data": {
      "text/html": [
       "La similitud entre las frases <b>\"No me grites, Juan.\"</b> <br/>  y <b>\"No le grites a Juan.\"</b> , <br/> es de  <b>0.9538129568099976</b><br/><br/>La similitud entre las frases <b>\"No me grites, Juan.\"</b> <br/>  y <b>\"Juan, dejá de gritarme.\"</b> , <br/> es de  <b>0.8583939075469971</b><br/><br/>La similitud entre las frases <b>\"No me grites, Juan.\"</b> <br/>  y <b>\"Stop shouting at me, John\"</b> , <br/> es de  <b>0.6939933896064758</b><br/><br/>La similitud entre las frases <b>\"No me grites, Juan.\"</b> <br/>  y <b>\"John, stop shouting\"</b> , <br/> es de  <b>0.62608402967453</b><br/><br/>"
      ],
      "text/plain": [
       "<IPython.core.display.HTML object>"
      ]
     },
     "execution_count": 8,
     "metadata": {},
     "output_type": "execute_result"
    }
   ],
   "source": [
    "sentences = [\n",
    "    \"No me grites, Juan.\",\n",
    "    \"No le grites a Juan.\",\n",
    "    \"Juan, dejá de gritarme.\",\n",
    "    \"Stop shouting at me, John\",\n",
    "    \"John, stop shouting\"\n",
    "    \n",
    "]\n",
    "outp = evaluate_sentences(sentences)\n",
    "HTML(outp)"
   ]
  },
  {
   "cell_type": "code",
   "execution_count": null,
   "metadata": {},
   "outputs": [],
   "source": []
  }
 ],
 "metadata": {
  "kernelspec": {
   "display_name": "conda_python3",
   "language": "python",
   "name": "conda_python3"
  },
  "language_info": {
   "codemirror_mode": {
    "name": "ipython",
    "version": 3
   },
   "file_extension": ".py",
   "mimetype": "text/x-python",
   "name": "python",
   "nbconvert_exporter": "python",
   "pygments_lexer": "ipython3",
   "version": "3.6.10"
  }
 },
 "nbformat": 4,
 "nbformat_minor": 4
}
